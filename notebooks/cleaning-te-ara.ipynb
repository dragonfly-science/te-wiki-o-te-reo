{
 "cells": [
  {
   "cell_type": "markdown",
   "metadata": {},
   "source": [
    "# Cleaning Te Ara"
   ]
  },
  {
   "cell_type": "markdown",
   "metadata": {},
   "source": [
    "The first text source we will be handling is Te Ara, the Encyclopedia of New Zealand.\n",
    "\n",
    "From Wikipedia:\n",
    "> Te Ara: The Encyclopedia of New Zealand is an online encyclopedia created by the Ministry for Culture and Heritage of the New Zealand Government."
   ]
  },
  {
   "cell_type": "code",
   "execution_count": 31,
   "metadata": {},
   "outputs": [],
   "source": [
    "import os, re\n",
    "import taumahi\n",
    "import itertools\n",
    "import collections\n",
    "from nltk.tokenize import sent_tokenize"
   ]
  },
  {
   "cell_type": "code",
   "execution_count": 2,
   "metadata": {},
   "outputs": [],
   "source": [
    "te_ara_path = \"../sources/teara-mi-content.txt\"\n",
    "with open(te_ara_path, \"r\") as f:\n",
    "    te_ara = f.read()"
   ]
  },
  {
   "cell_type": "code",
   "execution_count": 36,
   "metadata": {},
   "outputs": [
    {
     "data": {
      "text/plain": [
       "'Te Ara has 8873533 characters'"
      ]
     },
     "execution_count": 36,
     "metadata": {},
     "output_type": "execute_result"
    }
   ],
   "source": [
    "\"Te Ara has {} characters\".format(len(te_ara))"
   ]
  },
  {
   "cell_type": "markdown",
   "metadata": {},
   "source": [
    "We start off by reading the first 1000 characters of the text:"
   ]
  },
  {
   "cell_type": "code",
   "execution_count": 7,
   "metadata": {},
   "outputs": [
    {
     "name": "stdout",
     "output_type": "stream",
     "text": [
      "### New article\n",
      "https://teara.govt.nz/mi/te-mahi-kai\n",
      "Ko te kāinga te pokapū o ngā mahi kai a te Māori. Ko te maramataka ka tohu i te wā ki tēnā mahi, ki tēnā mahi. Ka tauhokohoko ngā iwi i ngā kai mai i ngā māra, te hī ika, te mahi tuna, te tāwhiti manu, te kohikohi kai hoki.\n",
      "### New article\n",
      "https://teara.govt.nz/mi/te-mahi-kai/page-1\n",
      "Ngā kaihōpara me te hunga tauhokohoko\n",
      "        Nō te takiwā o ngā tau 1250 – 1300 AD ka tae ngā tīpuna o te Māori ki Aotearoa. Ko te iwi Māori te whakamutunga o ngā iwi hōpara i Te Moananui-a-Kiwa. Ka tauhokohoko ngā tīpuna o te Māori ki tēnā iwi ki tēnā iwi i ngā moutere o Te Moananui-a-Kiwa. Ko Aotearoa te whenua rahi rawa i nōhia e ngā tāngata o Te Moananui-a-Kiwa. Hāunga te pāmamao o te whenua hou, taea noatia ai e te waka haere moana.\n",
      "        Ngā moutere tango kai\n",
      "        Noho ai ngā iwi o Te Moananui-a-Kiwa ki ngā moutere tūtata, ka hūpeke i tēnā moutere, i tēnā moutere ki te mahi kai. Ko te whakapae, i pērā te noho a te Māori ki Aotearoa i te taenga\n"
     ]
    }
   ],
   "source": [
    "print(te_ara[:1000])"
   ]
  },
  {
   "cell_type": "markdown",
   "metadata": {},
   "source": [
    "A few comments:\n",
    "- Te Ara contains multiple kinds of text (urls, Te Reo and also English)\n",
    "- It'll be worthwhile to run through `te_ara` and clean up any non-māori text etc.\n",
    "\n",
    "Fortunately, the `taumahi` library has the tools we need to do this."
   ]
  },
  {
   "cell_type": "markdown",
   "metadata": {},
   "source": [
    "## Cleaning the text"
   ]
  },
  {
   "cell_type": "markdown",
   "metadata": {},
   "source": [
    "First we split up `te_ara` into sentences, using `nltk.sent_tokenize`:"
   ]
  },
  {
   "cell_type": "code",
   "execution_count": 115,
   "metadata": {},
   "outputs": [],
   "source": [
    "te_ara_sents = [s.strip() for t in te_ara.split(\"\\n\") for s in sent_tokenize(t)]"
   ]
  },
  {
   "cell_type": "code",
   "execution_count": 116,
   "metadata": {},
   "outputs": [
    {
     "name": "stdout",
     "output_type": "stream",
     "text": [
      "There are 109617 sentences in te_ara\n"
     ]
    }
   ],
   "source": [
    "# Print the number of sentences in te_ara\n",
    "print(\"There are {} sentences in te_ara\".format(len(te_ara_sents)))"
   ]
  },
  {
   "cell_type": "markdown",
   "metadata": {},
   "source": [
    "Here are the first 5 sentences:"
   ]
  },
  {
   "cell_type": "code",
   "execution_count": 117,
   "metadata": {},
   "outputs": [
    {
     "data": {
      "text/plain": [
       "['### New article',\n",
       " 'https://teara.govt.nz/mi/te-mahi-kai',\n",
       " 'Ko te kāinga te pokapū o ngā mahi kai a te Māori.',\n",
       " 'Ko te maramataka ka tohu i te wā ki tēnā mahi, ki tēnā mahi.',\n",
       " 'Ka tauhokohoko ngā iwi i ngā kai mai i ngā māra, te hī ika, te mahi tuna, te tāwhiti manu, te kohikohi kai hoki.']"
      ]
     },
     "execution_count": 117,
     "metadata": {},
     "output_type": "execute_result"
    }
   ],
   "source": [
    "te_ara_sents[:5]"
   ]
  },
  {
   "cell_type": "markdown",
   "metadata": {},
   "source": [
    "Now we inspect the comments:"
   ]
  },
  {
   "cell_type": "code",
   "execution_count": 118,
   "metadata": {},
   "outputs": [
    {
     "data": {
      "text/plain": [
       "Counter({'### New article': 5407})"
      ]
     },
     "execution_count": 118,
     "metadata": {},
     "output_type": "execute_result"
    }
   ],
   "source": [
    "collections.Counter(sent for sent in te_ara_sents if sent.startswith(\"#\"))"
   ]
  },
  {
   "cell_type": "markdown",
   "metadata": {},
   "source": [
    "It looks like the only commented line in `te_ara` is `'### New article'`, which occurs 5407 times in the corpus. That means they're easy to remove."
   ]
  },
  {
   "cell_type": "code",
   "execution_count": 119,
   "metadata": {},
   "outputs": [],
   "source": [
    "te_ara_sents = [sent for sent in te_ara_sents if not sent == \"### New article\"]"
   ]
  },
  {
   "cell_type": "code",
   "execution_count": 120,
   "metadata": {},
   "outputs": [
    {
     "name": "stdout",
     "output_type": "stream",
     "text": [
      "There are 104210 sentences in te_ara\n"
     ]
    }
   ],
   "source": [
    "# Print the number of sentences in te_ara\n",
    "print(\"There are {} sentences in te_ara\".format(len(te_ara_sents)))"
   ]
  },
  {
   "cell_type": "markdown",
   "metadata": {},
   "source": [
    "Next, we can remove the urls from the text:"
   ]
  },
  {
   "cell_type": "code",
   "execution_count": 121,
   "metadata": {},
   "outputs": [],
   "source": [
    "url_regex = re.compile('http[s]?://(?:[a-zA-Z]|[0-9]|[$-_@.&+]|[!*\\(\\),]|(?:%[0-9a-fA-F][0-9a-fA-F]))+')"
   ]
  },
  {
   "cell_type": "code",
   "execution_count": 122,
   "metadata": {},
   "outputs": [],
   "source": [
    "te_ara_urls = {url_regex.match(sent).group(0) for sent in te_ara_sents if url_regex.match(sent)}"
   ]
  },
  {
   "cell_type": "code",
   "execution_count": 123,
   "metadata": {},
   "outputs": [
    {
     "name": "stdout",
     "output_type": "stream",
     "text": [
      "There are 5411 urls in te_ara\n"
     ]
    }
   ],
   "source": [
    "# Print the number of sentences in te_ara\n",
    "print(\"There are {} urls in te_ara\".format(len(te_ara_urls)))"
   ]
  },
  {
   "cell_type": "code",
   "execution_count": 127,
   "metadata": {},
   "outputs": [
    {
     "data": {
      "text/plain": [
       "['https://teara.govt.nz/mi/speech/2512/tainui',\n",
       " 'https://teara.govt.nz/mi/ngati-raukawa',\n",
       " 'https://teara.govt.nz/mi/video/44607/te-petihana-o-te-reo-maori-i-te-tau-1972',\n",
       " 'https://teara.govt.nz/mi/interactive/45223/te-whanau-williams-nga-kaiwhakamarama-reo',\n",
       " 'https://teara.govt.nz/mi/photograph/4165/rose-tuhiwai']"
      ]
     },
     "execution_count": 127,
     "metadata": {},
     "output_type": "execute_result"
    }
   ],
   "source": [
    "list(te_ara_urls)[:5]"
   ]
  },
  {
   "cell_type": "markdown",
   "metadata": {},
   "source": [
    "Likewise, there are 5411 urls in `te_ara` as well, so we remove these too."
   ]
  },
  {
   "cell_type": "code",
   "execution_count": 128,
   "metadata": {},
   "outputs": [],
   "source": [
    "te_ara_sents = [sent for sent in te_ara_sents if not any(url in sent for url in te_ara_urls)]"
   ]
  },
  {
   "cell_type": "code",
   "execution_count": 133,
   "metadata": {},
   "outputs": [
    {
     "data": {
      "text/plain": [
       "['Ko te kāinga te pokapū o ngā mahi kai a te Māori.',\n",
       " 'Ko te maramataka ka tohu i te wā ki tēnā mahi, ki tēnā mahi.',\n",
       " 'Ka tauhokohoko ngā iwi i ngā kai mai i ngā māra, te hī ika, te mahi tuna, te tāwhiti manu, te kohikohi kai hoki.',\n",
       " 'Ngā kaihōpara me te hunga tauhokohoko',\n",
       " 'Nō te takiwā o ngā tau 1250 – 1300 AD ka tae ngā tīpuna o te Māori ki Aotearoa.']"
      ]
     },
     "execution_count": 133,
     "metadata": {},
     "output_type": "execute_result"
    }
   ],
   "source": [
    "te_ara_sents[:5]"
   ]
  },
  {
   "cell_type": "markdown",
   "metadata": {},
   "source": [
    "The next thing we want to do is detect any kupu pākehā (English words) in `te_ara`. In the `taumahi` library, there's the following useful `kupu_pākehā` function."
   ]
  },
  {
   "cell_type": "code",
   "execution_count": 140,
   "metadata": {},
   "outputs": [],
   "source": [
    "kupu_pākehā = collections.Counter(kupu for sent in te_ara_pākehā_sents for kupu in taumahi.kupu_pākehā(sent))"
   ]
  },
  {
   "cell_type": "markdown",
   "metadata": {},
   "source": [
    "So we can see that in some cases, the kupu pākehā in the corpus are names of people (e.g. 'James Belich'), or sometimes organisations 'Peoples of the Pacific' and sometimes they are out of vocab terms like 'AD'."
   ]
  },
  {
   "cell_type": "code",
   "execution_count": 148,
   "metadata": {},
   "outputs": [
    {
     "name": "stdout",
     "output_type": "stream",
     "text": [
      "There are 9550 unique kupu pākehā, and 41199 kupu pākeha in total in te_ara\n"
     ]
    }
   ],
   "source": [
    "print(\"There are {} unique kupu pākehā, and {} kupu pākeha in total in te_ara\".format(len(kupu_pākehā), sum(kupu_pākehā.values())))"
   ]
  },
  {
   "cell_type": "code",
   "execution_count": null,
   "metadata": {},
   "outputs": [],
   "source": []
  },
  {
   "cell_type": "code",
   "execution_count": null,
   "metadata": {},
   "outputs": [],
   "source": []
  },
  {
   "cell_type": "code",
   "execution_count": null,
   "metadata": {},
   "outputs": [],
   "source": []
  },
  {
   "cell_type": "code",
   "execution_count": null,
   "metadata": {},
   "outputs": [],
   "source": []
  },
  {
   "cell_type": "code",
   "execution_count": null,
   "metadata": {},
   "outputs": [],
   "source": []
  },
  {
   "cell_type": "code",
   "execution_count": null,
   "metadata": {},
   "outputs": [],
   "source": []
  },
  {
   "cell_type": "code",
   "execution_count": null,
   "metadata": {},
   "outputs": [],
   "source": []
  },
  {
   "cell_type": "code",
   "execution_count": null,
   "metadata": {},
   "outputs": [],
   "source": []
  },
  {
   "cell_type": "code",
   "execution_count": null,
   "metadata": {},
   "outputs": [],
   "source": []
  },
  {
   "cell_type": "code",
   "execution_count": null,
   "metadata": {},
   "outputs": [],
   "source": []
  },
  {
   "cell_type": "code",
   "execution_count": null,
   "metadata": {},
   "outputs": [],
   "source": []
  }
 ],
 "metadata": {
  "kernelspec": {
   "display_name": "Python 3",
   "language": "python",
   "name": "python3"
  },
  "language_info": {
   "codemirror_mode": {
    "name": "ipython",
    "version": 3
   },
   "file_extension": ".py",
   "mimetype": "text/x-python",
   "name": "python",
   "nbconvert_exporter": "python",
   "pygments_lexer": "ipython3",
   "version": "3.6.3"
  }
 },
 "nbformat": 4,
 "nbformat_minor": 2
}
