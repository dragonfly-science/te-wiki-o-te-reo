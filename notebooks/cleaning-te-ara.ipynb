{
 "cells": [
  {
   "cell_type": "markdown",
   "metadata": {},
   "source": [
    "# Cleaning Te Ara"
   ]
  },
  {
   "cell_type": "markdown",
   "metadata": {},
   "source": [
    "The first text source we will be handling is Te Ara, the Encyclopedia of New Zealand.\n",
    "\n",
    "From Wikipedia:\n",
    "> Te Ara: The Encyclopedia of New Zealand is an online encyclopedia created by the Ministry for Culture and Heritage of the New Zealand Government."
   ]
  },
  {
   "cell_type": "code",
   "execution_count": 67,
   "metadata": {},
   "outputs": [],
   "source": [
    "import os, re\n",
    "import taumahi\n",
    "import warnings\n",
    "import itertools\n",
    "import collections\n",
    "from multiprocessing import Pool, cpu_count\n",
    "from unicodedata import category\n",
    "from nltk.tokenize import sent_tokenize"
   ]
  },
  {
   "cell_type": "code",
   "execution_count": 2,
   "metadata": {},
   "outputs": [],
   "source": [
    "def multicore_apply(iterable, func):\n",
    "    '''\n",
    "    Implements pool.map safely, closing processes properly afterwards\n",
    "    '''\n",
    "    try:\n",
    "        pool = Pool(cpu_count() - 1)\n",
    "        result = pool.map(func, iterable)\n",
    "    finally:\n",
    "        pool.close()\n",
    "        pool.join()\n",
    "    return result"
   ]
  },
  {
   "cell_type": "code",
   "execution_count": 3,
   "metadata": {},
   "outputs": [],
   "source": [
    "def remove_punctuation(kupu_tōkau):\n",
    "    return ''.join(ch for ch in kupu_tōkau if category(ch)[0] != 'P')\n",
    "    \n",
    "def normalize_text(kupu_tōkau):\n",
    "    kupu_tōkau = re.sub(\"\\s{2,}\", \" \", kupu_tōkau)\n",
    "    return remove_punctuation(kupu_tōkau.lower())"
   ]
  },
  {
   "cell_type": "code",
   "execution_count": 52,
   "metadata": {},
   "outputs": [],
   "source": [
    "def digits_to_text(num):\n",
    "\n",
    "    if abs(num) >= 10000:\n",
    "        warnings.warn(\"Only numbers below 10,000 can be translated\")\n",
    "        return str(num)\n",
    "\n",
    "    digits = [int(i) for i in str(num)]\n",
    "\n",
    "    ones = ['kore', 'tahi', 'rua', 'toru', 'whā',\n",
    "            'rima', 'ono', 'whitu', 'waru', 'iwa']\n",
    "    places = ['mano', 'rau', 'tekau', '']\n",
    "\n",
    "    ones_dict   = dict(zip([i for i in range(10)], ones))\n",
    "    places_dict = dict(zip([3, 2, 1, 0], places))\n",
    "\n",
    "    digit_words = []\n",
    "    for place, digit in enumerate(digits[::-1]):\n",
    "        ones_digit = ones_dict[digit]\n",
    "\n",
    "        place_digit = places_dict[place]\n",
    "\n",
    "        if place == 1:\n",
    "            place_digit = place_digit + \" mā\"\n",
    "\n",
    "        if place > 1 and ones_digit == 'tahi':\n",
    "            ones_digit = \"kotahi\"\n",
    "        \n",
    "        place_words = str.strip(ones_digit + \" \" + place_digit)\n",
    "        \n",
    "        digit_words.append(place_words)\n",
    "    \n",
    "    digit_text = ' '.join(digit_words[::-1])\n",
    "\n",
    "    digit_text = str.strip(digit_text\n",
    "        .replace(\" mā kore\", \"\")\n",
    "        .replace(\" kore rau\", \"\")\n",
    "        .replace(\"kore tekau \", \"\")\n",
    "        .replace(\"tahi tekau \", \"tekau \"))\n",
    "\n",
    "    return digit_text"
   ]
  },
  {
   "cell_type": "code",
   "execution_count": 4,
   "metadata": {},
   "outputs": [],
   "source": [
    "te_ara_path = \"../sources/teara-mi-content.txt\"\n",
    "with open(te_ara_path, \"r\") as f:\n",
    "    te_ara = f.read()"
   ]
  },
  {
   "cell_type": "code",
   "execution_count": 5,
   "metadata": {},
   "outputs": [
    {
     "data": {
      "text/plain": [
       "'Te Ara has 8873533 characters'"
      ]
     },
     "execution_count": 5,
     "metadata": {},
     "output_type": "execute_result"
    }
   ],
   "source": [
    "\"Te Ara has {} characters\".format(len(te_ara))"
   ]
  },
  {
   "cell_type": "markdown",
   "metadata": {},
   "source": [
    "We start off by reading the first 1000 characters of the text:"
   ]
  },
  {
   "cell_type": "code",
   "execution_count": 6,
   "metadata": {},
   "outputs": [
    {
     "name": "stdout",
     "output_type": "stream",
     "text": [
      "### New article\n",
      "https://teara.govt.nz/mi/te-mahi-kai\n",
      "Ko te kāinga te pokapū o ngā mahi kai a te Māori. Ko te maramataka ka tohu i te wā ki tēnā mahi, ki tēnā mahi. Ka tauhokohoko ngā iwi i ngā kai mai i ngā māra, te hī ika, te mahi tuna, te tāwhiti manu, te kohikohi kai hoki.\n",
      "### New article\n",
      "https://teara.govt.nz/mi/te-mahi-kai/page-1\n",
      "Ngā kaihōpara me te hunga tauhokohoko\n",
      "        Nō te takiwā o ngā tau 1250 – 1300 AD ka tae ngā tīpuna o te Māori ki Aotearoa. Ko te iwi Māori te whakamutunga o ngā iwi hōpara i Te Moananui-a-Kiwa. Ka tauhokohoko ngā tīpuna o te Māori ki tēnā iwi ki tēnā iwi i ngā moutere o Te Moananui-a-Kiwa. Ko Aotearoa te whenua rahi rawa i nōhia e ngā tāngata o Te Moananui-a-Kiwa. Hāunga te pāmamao o te whenua hou, taea noatia ai e te waka haere moana.\n",
      "        Ngā moutere tango kai\n",
      "        Noho ai ngā iwi o Te Moananui-a-Kiwa ki ngā moutere tūtata, ka hūpeke i tēnā moutere, i tēnā moutere ki te mahi kai. Ko te whakapae, i pērā te noho a te Māori ki Aotearoa i te taenga\n"
     ]
    }
   ],
   "source": [
    "print(te_ara[:1000])"
   ]
  },
  {
   "cell_type": "markdown",
   "metadata": {},
   "source": [
    "A few comments:\n",
    "- Te Ara contains multiple kinds of text (urls, Te Reo and also English)\n",
    "- It'll be worthwhile to run through `te_ara` and clean up any non-māori text etc.\n",
    "\n",
    "Fortunately, the `taumahi` library has the tools we need to do this."
   ]
  },
  {
   "cell_type": "markdown",
   "metadata": {},
   "source": [
    "## Cleaning the text"
   ]
  },
  {
   "cell_type": "markdown",
   "metadata": {},
   "source": [
    "First we split up `te_ara` into sentences, using `nltk.sent_tokenize`:"
   ]
  },
  {
   "cell_type": "code",
   "execution_count": 7,
   "metadata": {},
   "outputs": [],
   "source": [
    "te_ara_sents = [s.strip() for t in te_ara.split(\"\\n\") for s in sent_tokenize(t)]"
   ]
  },
  {
   "cell_type": "code",
   "execution_count": 8,
   "metadata": {},
   "outputs": [
    {
     "name": "stdout",
     "output_type": "stream",
     "text": [
      "There are 109617 sentences in te_ara\n"
     ]
    }
   ],
   "source": [
    "# Print the number of sentences in te_ara\n",
    "print(\"There are {} sentences in te_ara\".format(len(te_ara_sents)))"
   ]
  },
  {
   "cell_type": "markdown",
   "metadata": {},
   "source": [
    "Here are the first 5 sentences:"
   ]
  },
  {
   "cell_type": "code",
   "execution_count": 9,
   "metadata": {},
   "outputs": [
    {
     "data": {
      "text/plain": [
       "['### New article',\n",
       " 'https://teara.govt.nz/mi/te-mahi-kai',\n",
       " 'Ko te kāinga te pokapū o ngā mahi kai a te Māori.',\n",
       " 'Ko te maramataka ka tohu i te wā ki tēnā mahi, ki tēnā mahi.',\n",
       " 'Ka tauhokohoko ngā iwi i ngā kai mai i ngā māra, te hī ika, te mahi tuna, te tāwhiti manu, te kohikohi kai hoki.']"
      ]
     },
     "execution_count": 9,
     "metadata": {},
     "output_type": "execute_result"
    }
   ],
   "source": [
    "te_ara_sents[:5]"
   ]
  },
  {
   "cell_type": "markdown",
   "metadata": {},
   "source": [
    "Now we inspect the comments:"
   ]
  },
  {
   "cell_type": "code",
   "execution_count": 10,
   "metadata": {},
   "outputs": [
    {
     "data": {
      "text/plain": [
       "Counter({'### New article': 5407})"
      ]
     },
     "execution_count": 10,
     "metadata": {},
     "output_type": "execute_result"
    }
   ],
   "source": [
    "collections.Counter(sent for sent in te_ara_sents if sent.startswith(\"#\"))"
   ]
  },
  {
   "cell_type": "markdown",
   "metadata": {},
   "source": [
    "It looks like the only commented line in `te_ara` is `'### New article'`, which occurs 5407 times in the corpus. That means they're easy to remove."
   ]
  },
  {
   "cell_type": "code",
   "execution_count": 11,
   "metadata": {},
   "outputs": [],
   "source": [
    "te_ara_sents = [sent for sent in te_ara_sents if not sent == \"### New article\"]"
   ]
  },
  {
   "cell_type": "code",
   "execution_count": 12,
   "metadata": {},
   "outputs": [
    {
     "name": "stdout",
     "output_type": "stream",
     "text": [
      "There are 104210 sentences in te_ara\n"
     ]
    }
   ],
   "source": [
    "# Print the number of sentences in te_ara\n",
    "print(\"There are {} sentences in te_ara\".format(len(te_ara_sents)))"
   ]
  },
  {
   "cell_type": "markdown",
   "metadata": {},
   "source": [
    "Next, we can remove the urls from the text:"
   ]
  },
  {
   "cell_type": "code",
   "execution_count": 13,
   "metadata": {},
   "outputs": [],
   "source": [
    "url_regex = re.compile('http[s]?://(?:[a-zA-Z]|[0-9]|[$-_@.&+]|[!*\\(\\),]|(?:%[0-9a-fA-F][0-9a-fA-F]))+')"
   ]
  },
  {
   "cell_type": "code",
   "execution_count": 14,
   "metadata": {},
   "outputs": [],
   "source": [
    "te_ara_urls = {url_regex.match(sent).group(0) for sent in te_ara_sents if url_regex.match(sent)}"
   ]
  },
  {
   "cell_type": "code",
   "execution_count": 15,
   "metadata": {},
   "outputs": [
    {
     "name": "stdout",
     "output_type": "stream",
     "text": [
      "There are 5411 urls in te_ara\n"
     ]
    }
   ],
   "source": [
    "# Print the number of sentences in te_ara\n",
    "print(\"There are {} urls in te_ara\".format(len(te_ara_urls)))"
   ]
  },
  {
   "cell_type": "code",
   "execution_count": 16,
   "metadata": {},
   "outputs": [
    {
     "data": {
      "text/plain": [
       "['https://teara.govt.nz/mi/artwork/11454/ko-hinepukohurangi-raua-ko-te-maunga',\n",
       " 'https://teara.govt.nz/mi/video/8884/te-hanga-toki',\n",
       " 'https://teara.govt.nz/mi/artwork/14158/rakaihautu',\n",
       " 'https://teara.govt.nz/mi/photograph/2190/nga-kupenga-a-nga-iwi-maori-o-whanganui',\n",
       " 'https://teara.govt.nz/mi/photograph/10900/te-tohu-mokai-a-te-tai-tokerau']"
      ]
     },
     "execution_count": 16,
     "metadata": {},
     "output_type": "execute_result"
    }
   ],
   "source": [
    "list(te_ara_urls)[:5]"
   ]
  },
  {
   "cell_type": "markdown",
   "metadata": {},
   "source": [
    "Likewise, there are 5411 urls in `te_ara` as well, so we remove these too."
   ]
  },
  {
   "cell_type": "code",
   "execution_count": 17,
   "metadata": {},
   "outputs": [],
   "source": [
    "%time\n",
    "te_ara_sents = [sent for sent in te_ara_sents if not any(url in sent for url in te_ara_urls)]"
   ]
  },
  {
   "cell_type": "code",
   "execution_count": 18,
   "metadata": {},
   "outputs": [
    {
     "data": {
      "text/plain": [
       "['Ko te kāinga te pokapū o ngā mahi kai a te Māori.',\n",
       " 'Ko te maramataka ka tohu i te wā ki tēnā mahi, ki tēnā mahi.',\n",
       " 'Ka tauhokohoko ngā iwi i ngā kai mai i ngā māra, te hī ika, te mahi tuna, te tāwhiti manu, te kohikohi kai hoki.',\n",
       " 'Ngā kaihōpara me te hunga tauhokohoko',\n",
       " 'Nō te takiwā o ngā tau 1250 – 1300 AD ka tae ngā tīpuna o te Māori ki Aotearoa.']"
      ]
     },
     "execution_count": 18,
     "metadata": {},
     "output_type": "execute_result"
    }
   ],
   "source": [
    "te_ara_sents[:5]"
   ]
  },
  {
   "cell_type": "markdown",
   "metadata": {},
   "source": [
    "The next thing we want to do is detect any kupu pākehā (English words) in `te_ara`. In the `taumahi` library, there's the following useful `kupu_pākehā` function."
   ]
  },
  {
   "cell_type": "code",
   "execution_count": 19,
   "metadata": {},
   "outputs": [],
   "source": [
    "kupu_pākehā = collections.Counter(\n",
    "    kupu for sent in te_ara_sents for kupu in taumahi.kupu_pākehā(normalize_text(sent), tohutō=False)\n",
    ")"
   ]
  },
  {
   "cell_type": "markdown",
   "metadata": {},
   "source": [
    "So we can see that in some cases, the kupu pākehā in the corpus are names of people (e.g. 'James Belich'), or sometimes organisations 'Peoples of the Pacific' and sometimes they are out of vocab terms like 'AD'."
   ]
  },
  {
   "cell_type": "code",
   "execution_count": 20,
   "metadata": {},
   "outputs": [
    {
     "name": "stdout",
     "output_type": "stream",
     "text": [
      "There are 7348 unique kupu pākehā, and 38806 kupu pākeha in total in te_ara\n"
     ]
    }
   ],
   "source": [
    "print(\"There are {} unique kupu pākehā, and {} kupu pākeha in total in te_ara\".format(len(kupu_pākehā), sum(kupu_pākehā.values())))"
   ]
  },
  {
   "cell_type": "markdown",
   "metadata": {},
   "source": [
    "### Removing the kupu pākehā"
   ]
  },
  {
   "cell_type": "markdown",
   "metadata": {},
   "source": [
    "Now we want to remove the `kupu_pākehā` from the `te_ara` text."
   ]
  },
  {
   "cell_type": "code",
   "execution_count": 21,
   "metadata": {},
   "outputs": [],
   "source": [
    "pākehā_regex = re.compile(\"|\".join(sorted(['\\s{0}\\s|^{0}\\s|\\s{0}$'.format(s) for s in kupu_pākehā.keys()])))"
   ]
  },
  {
   "cell_type": "code",
   "execution_count": 46,
   "metadata": {},
   "outputs": [],
   "source": [
    "def clean_pākehā(kupu_tōkau, repl = ' ', normalize = True):\n",
    "    if normalize:\n",
    "        kupu_tōkau = normalize_text(kupu_tōkau)\n",
    "    \n",
    "    kupu_tōkau = pākehā_regex.sub(repl, kupu_tōkau)\n",
    "    kupu_tōkau = pākehā_regex.sub(repl, kupu_tōkau)\n",
    "    kupu_tōkau = re.sub(\"\\s{2,}\", repl, kupu_tōkau)\n",
    "    \n",
    "    return kupu_tōkau.strip()"
   ]
  },
  {
   "cell_type": "code",
   "execution_count": 49,
   "metadata": {},
   "outputs": [
    {
     "name": "stdout",
     "output_type": "stream",
     "text": [
      "CPU times: user 2.73 s, sys: 1 s, total: 3.73 s\n",
      "Wall time: 32min 26s\n"
     ]
    }
   ],
   "source": [
    "%%time\n",
    "te_ara_māori_sents = multicore_apply(te_ara_sents, clean_pākehā)"
   ]
  },
  {
   "cell_type": "code",
   "execution_count": 55,
   "metadata": {},
   "outputs": [
    {
     "data": {
      "text/plain": [
       "'kotahi mano rua rau toru tekau mā whā'"
      ]
     },
     "execution_count": 55,
     "metadata": {},
     "output_type": "execute_result"
    }
   ],
   "source": [
    "digits_to_text(1234)"
   ]
  },
  {
   "cell_type": "code",
   "execution_count": 57,
   "metadata": {},
   "outputs": [],
   "source": [
    "kupu_tōkau = 'nō te takiwā o ngā tau 1250 1300 ka tae ngā tīpuna o te māori ki aotearoa'"
   ]
  },
  {
   "cell_type": "code",
   "execution_count": 77,
   "metadata": {},
   "outputs": [],
   "source": [
    "def replace_nums(tauriterite):\n",
    "    tau = tauriterite.group(0)\n",
    "    if \"$\" in tau:\n",
    "        tau = tau[1:]\n",
    "        digits = digits_to_text(int(tau))\n",
    "        digits += \" tāra\"\n",
    "    else:\n",
    "        digits = digits_to_text(int(tau))\n",
    "    return digits"
   ]
  },
  {
   "cell_type": "code",
   "execution_count": 78,
   "metadata": {},
   "outputs": [
    {
     "name": "stderr",
     "output_type": "stream",
     "text": [
      "/opt/conda/lib/python3.6/site-packages/ipykernel_launcher.py:4: UserWarning: Only numbers below 10,000 can be translated\n",
      "  after removing the cwd from sys.path.\n"
     ]
    }
   ],
   "source": [
    "te_ara_māori_sents_no_nums = [re.sub(\"\\$?\\d+\", replace_nums, sent) for sent in te_ara_māori_sents]"
   ]
  },
  {
   "cell_type": "code",
   "execution_count": 81,
   "metadata": {},
   "outputs": [],
   "source": [
    "te_ara_māori_sents_no_nums = [re.sub(\"\\d+\", \"\", sent) for sent in te_ara_māori_sents]"
   ]
  },
  {
   "cell_type": "code",
   "execution_count": 84,
   "metadata": {},
   "outputs": [],
   "source": [
    "te_ara_māori_sents_no_nums = [re.sub(\"\\s{2,}\", \" \", sent) for sent in te_ara_māori_sents_no_nums]"
   ]
  },
  {
   "cell_type": "code",
   "execution_count": 85,
   "metadata": {},
   "outputs": [],
   "source": [
    "with open(\"../data/te_ara_māori_sents.txt\", \"w\") as f:\n",
    "    for sent in te_ara_māori_sents_no_nums:\n",
    "        if len(sent) > 0:\n",
    "            f.write(sent + \"\\n\")"
   ]
  }
 ],
 "metadata": {
  "kernelspec": {
   "display_name": "Python 3",
   "language": "python",
   "name": "python3"
  },
  "language_info": {
   "codemirror_mode": {
    "name": "ipython",
    "version": 3
   },
   "file_extension": ".py",
   "mimetype": "text/x-python",
   "name": "python",
   "nbconvert_exporter": "python",
   "pygments_lexer": "ipython3",
   "version": "3.6.3"
  }
 },
 "nbformat": 4,
 "nbformat_minor": 2
}
